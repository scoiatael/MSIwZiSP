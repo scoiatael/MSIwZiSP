{
 "cells": [
  {
   "cell_type": "code",
   "execution_count": 1,
   "metadata": {
    "collapsed": false,
    "scrolled": true
   },
   "outputs": [
    {
     "data": {
      "text/plain": [
       "true"
      ]
     },
     "execution_count": 1,
     "metadata": {},
     "output_type": "execute_result"
    }
   ],
   "source": [
    "require 'nokogiri'\n",
    "require 'open-uri'"
   ]
  },
  {
   "cell_type": "code",
   "execution_count": 2,
   "metadata": {
    "collapsed": false
   },
   "outputs": [
    {
     "data": {
      "text/plain": [
       "\"http://socialblade.com\""
      ]
     },
     "execution_count": 2,
     "metadata": {},
     "output_type": "execute_result"
    }
   ],
   "source": [
    "BASE_URL = \"http://socialblade.com\""
   ]
  },
  {
   "cell_type": "code",
   "execution_count": 3,
   "metadata": {
    "collapsed": false
   },
   "outputs": [
    {
     "data": {
      "text/plain": [
       "[\"/youtube/user/acdcvevo\", \"/youtube/user/tseries\", \"/youtube/user/netdmuzikk\", \"/youtube/user/wwefannation\", \"/youtube/user/familyfunpack\", \"/youtube/user/littlebabybum\", \"/youtube/user/justinbiebervevo\", \"/youtube/user/reinomariaelenawalsh\", \"/youtube/user/emimusic\", \"/youtube/user/pekesclublima\", \"/youtube/user/thediamondminecart\", \"/youtube/user/buzzfeedvideo\", \"/youtube/user/coldplayvevo\", \"/youtube/user/thesnickersarabia\", \"/youtube/user/getmovies\", \"/youtube/user/pewdiepie\", \"/youtube/user/mashamedvedtv\", \"/youtube/user/theellenshow\", \"/youtube/user/spamsafe\", \"/youtube/user/setindia\", \"/youtube/user/fifthharmonyvevo\", \"/youtube/user/britainsgottalent09\", \"/youtube/user/eurovision\", \"/youtube/user/enriqueiglesiasvevo\", \"/youtube/user/watchmojo\", \"/youtube/user/spinninrec\", \"/youtube/user/rihannavevo\", \"/youtube/user/arianagrandevevo\", \"/youtube/user/thechuchutv\", \"/youtube/user/zedbeatsofficial\", \"/youtube/user/gmmgrammyofficial\", \"/youtube/user/matercarclub\", \"/youtube/user/disneycollectorbr\", \"/youtube/user/meghantrainorvevo\", \"/youtube/user/buzzfeedyellow\", \"/youtube/user/canalkondzilla\", \"/youtube/user/itsbabybigmouth\", \"/youtube/user/vanossgaming\", \"/youtube/user/zeetv\", \"/youtube/user/eminemvevo\", \"/youtube/user/cookieswirlc\", \"/youtube/user/siavevo\", \"/youtube/user/jacksepticeye\", \"/youtube/user/sevensupergirls\", \"/youtube/user/taylorswiftvevo\", \"/youtube/user/nickyjamtv\", \"/youtube/user/malumavevo\", \"/youtube/user/fueledbyramen\", \"/youtube/user/rsiammusic\", \"/youtube/user/fernanfloo\"]"
      ]
     },
     "execution_count": 3,
     "metadata": {},
     "output_type": "execute_result"
    }
   ],
   "source": [
    "doc = Nokogiri::HTML(open(BASE_URL + \"/youtube/\"))\n",
    "users = doc.css('.TableMonthlyStats a').map { |u| u['href']}"
   ]
  },
  {
   "cell_type": "code",
   "execution_count": 4,
   "metadata": {
    "collapsed": false
   },
   "outputs": [
    {
     "data": {
      "text/plain": [
       ":scrape_data"
      ]
     },
     "execution_count": 4,
     "metadata": {},
     "output_type": "execute_result"
    }
   ],
   "source": [
    "def scrape_data(u)\n",
    "  u_doc = Nokogiri::HTML(open(BASE_URL + u + '/monthly'))\n",
    "\n",
    "  table = (5...34).to_a.map { |n| u_doc.css(\"body > div:nth-child(16) > div > div:nth-child(1) > div:nth-child(#{n})\") }\n",
    "\n",
    "  table.map { |n| n.text.gsub(\"\\n\\n\", \" | \").gsub(\"\\n\", \" \") }\n",
    "end"
   ]
  },
  {
   "cell_type": "code",
   "execution_count": 5,
   "metadata": {
    "collapsed": false,
    "scrolled": true
   },
   "outputs": [
    {
     "data": {
      "text/plain": [
       "[\"data\"]"
      ]
     },
     "execution_count": 5,
     "metadata": {},
     "output_type": "execute_result"
    }
   ],
   "source": [
    "require 'fileutils'\n",
    "DATA = 'data'\n",
    "FileUtils.mkdir_p('data')"
   ]
  },
  {
   "cell_type": "code",
   "execution_count": 6,
   "metadata": {
    "collapsed": false
   },
   "outputs": [
    {
     "data": {
      "text/plain": [
       "[\"/youtube/user/acdcvevo\", \"/youtube/user/tseries\", \"/youtube/user/netdmuzikk\", \"/youtube/user/wwefannation\", \"/youtube/user/familyfunpack\", \"/youtube/user/littlebabybum\", \"/youtube/user/justinbiebervevo\", \"/youtube/user/reinomariaelenawalsh\", \"/youtube/user/emimusic\", \"/youtube/user/pekesclublima\", \"/youtube/user/thediamondminecart\", \"/youtube/user/buzzfeedvideo\", \"/youtube/user/coldplayvevo\", \"/youtube/user/thesnickersarabia\", \"/youtube/user/getmovies\", \"/youtube/user/pewdiepie\", \"/youtube/user/mashamedvedtv\", \"/youtube/user/theellenshow\", \"/youtube/user/spamsafe\", \"/youtube/user/setindia\", \"/youtube/user/fifthharmonyvevo\", \"/youtube/user/britainsgottalent09\", \"/youtube/user/eurovision\", \"/youtube/user/enriqueiglesiasvevo\", \"/youtube/user/watchmojo\", \"/youtube/user/spinninrec\", \"/youtube/user/rihannavevo\", \"/youtube/user/arianagrandevevo\", \"/youtube/user/thechuchutv\", \"/youtube/user/zedbeatsofficial\", \"/youtube/user/gmmgrammyofficial\", \"/youtube/user/matercarclub\", \"/youtube/user/disneycollectorbr\", \"/youtube/user/meghantrainorvevo\", \"/youtube/user/buzzfeedyellow\", \"/youtube/user/canalkondzilla\", \"/youtube/user/itsbabybigmouth\", \"/youtube/user/vanossgaming\", \"/youtube/user/zeetv\", \"/youtube/user/eminemvevo\", \"/youtube/user/cookieswirlc\", \"/youtube/user/siavevo\", \"/youtube/user/jacksepticeye\", \"/youtube/user/sevensupergirls\", \"/youtube/user/taylorswiftvevo\", \"/youtube/user/nickyjamtv\", \"/youtube/user/malumavevo\", \"/youtube/user/fueledbyramen\", \"/youtube/user/rsiammusic\", \"/youtube/user/fernanfloo\"]"
      ]
     },
     "execution_count": 6,
     "metadata": {},
     "output_type": "execute_result"
    }
   ],
   "source": [
    "users.each do |u|\n",
    "  data = scrape_data(u).join(\"\\n\")\n",
    "  name = u.split('/').last\n",
    "  File.write(File.join(DATA, name), data)\n",
    "end"
   ]
  },
  {
   "cell_type": "code",
   "execution_count": null,
   "metadata": {
    "collapsed": true
   },
   "outputs": [],
   "source": []
  }
 ],
 "metadata": {
  "kernelspec": {
   "display_name": "Ruby 2.3.0",
   "language": "ruby",
   "name": "ruby"
  },
  "language_info": {
   "file_extension": ".rb",
   "mimetype": "application/x-ruby",
   "name": "ruby",
   "version": "2.3.0"
  }
 },
 "nbformat": 4,
 "nbformat_minor": 0
}
