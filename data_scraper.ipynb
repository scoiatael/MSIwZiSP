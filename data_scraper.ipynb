{
 "cells": [
  {
   "cell_type": "code",
   "execution_count": 4,
   "metadata": {
    "collapsed": false,
    "scrolled": true
   },
   "outputs": [
    {
     "data": {
      "text/plain": [
       "false"
      ]
     },
     "execution_count": 4,
     "metadata": {},
     "output_type": "execute_result"
    }
   ],
   "source": [
    "require 'nokogiri'\n",
    "require 'open-uri'"
   ]
  },
  {
   "cell_type": "code",
   "execution_count": 15,
   "metadata": {
    "collapsed": false
   },
   "outputs": [
    {
     "data": {
      "text/plain": [
       "\"http://socialblade.com\""
      ]
     },
     "execution_count": 15,
     "metadata": {},
     "output_type": "execute_result"
    }
   ],
   "source": [
    "BASE_URL = \"http://socialblade.com\""
   ]
  },
  {
   "cell_type": "code",
   "execution_count": 16,
   "metadata": {
    "collapsed": false
   },
   "outputs": [
    {
     "data": {
      "text/plain": [
       "[\"/youtube/user/wwefannation\", \"/youtube/user/heilrj03\", \"/youtube/user/justinbiebervevo\", \"/youtube/user/tseries\", \"/youtube/user/familyfunpack\", \"/youtube/user/netdmuzikk\", \"/youtube/user/littlebabybum\", \"/youtube/user/mashamedvedtv\", \"/youtube/user/getmovies\", \"/youtube/user/toymonsterchannel\", \"/youtube/user/matercarclub\", \"/youtube/user/thediamondminecart\", \"/youtube/user/rihannavevo\", \"/youtube/user/pewdiepie\", \"/youtube/user/buzzfeedvideo\", \"/youtube/user/thechuchutv\", \"/youtube/user/theellenshow\", \"/youtube/user/itsbabybigmouth\", \"/youtube/user/reinomariaelenawalsh\", \"/youtube/user/disneycollectorbr\", \"/youtube/user/popularmmos\", \"/youtube/user/gmmgrammyofficial\", \"/youtube/user/watchmojo\", \"/youtube/user/abscbnonline\", \"/youtube/user/toysandfunnykids\", \"/youtube/user/roxetteofficial\", \"/youtube/user/zeetv\", \"/youtube/user/sevensupergirls\", \"/youtube/user/cookieswirlc\", \"/youtube/user/coldplayvevo\", \"/youtube/user/spinninrec\", \"/youtube/user/jacksepticeye\", \"/youtube/user/markipliergame\", \"/youtube/user/taylorswiftvevo\", \"/youtube/user/buzzfeedyellow\", \"/youtube/user/adelevevo\", \"/youtube/user/vanossgaming\", \"/youtube/user/onedirectionvevo\", \"/youtube/user/nickyjamtv\", \"/youtube/user/runway19co\", \"/youtube/user/blucollection\", \"/youtube/user/fueledbyramen\", \"/youtube/user/setindia\", \"/youtube/user/movieclipstrailers\", \"/youtube/user/arianagrandevevo\", \"/youtube/user/hobbykidstv\", \"/youtube/user/unboxingsurpriseegg\", \"/youtube/user/disneycartoys\", \"/youtube/user/fifthharmonyvevo\", \"/youtube/user/rsiammusic\"]"
      ]
     },
     "execution_count": 16,
     "metadata": {},
     "output_type": "execute_result"
    }
   ],
   "source": [
    "doc = Nokogiri::HTML(open(BASE_URL + \"/youtube/\"))\n",
    "users = doc.css('.TableMonthlyStats a').map { |u| u['href']}"
   ]
  },
  {
   "cell_type": "code",
   "execution_count": 54,
   "metadata": {
    "collapsed": false
   },
   "outputs": [
    {
     "data": {
      "text/plain": [
       ":scrape_data"
      ]
     },
     "execution_count": 54,
     "metadata": {},
     "output_type": "execute_result"
    }
   ],
   "source": [
    "def scrape_data(u)\n",
    "  u_doc = Nokogiri::HTML(open(BASE_URL + u + '/monthly'))\n",
    "\n",
    "  table = (5...34).to_a.map { |n| u_doc.css(\"body > div:nth-child(16) > div > div:nth-child(1) > div:nth-child(#{n})\") }\n",
    "\n",
    "  table.map { |n| n.text.gsub(\"\\n\\n\", \" | \").gsub(\"\\n\", \" \") }\n",
    "end"
   ]
  },
  {
   "cell_type": "code",
   "execution_count": 58,
   "metadata": {
    "collapsed": false,
    "scrolled": true
   },
   "outputs": [
    {
     "data": {
      "text/plain": [
       "[\"data\"]"
      ]
     },
     "execution_count": 58,
     "metadata": {},
     "output_type": "execute_result"
    }
   ],
   "source": [
    "require 'fileutils'\n",
    "DATA = 'data'\n",
    "FileUtils.mkdir_p('data')"
   ]
  },
  {
   "cell_type": "code",
   "execution_count": 64,
   "metadata": {
    "collapsed": false
   },
   "outputs": [
    {
     "data": {
      "text/plain": [
       "[\"/youtube/user/wwefannation\", \"/youtube/user/heilrj03\", \"/youtube/user/justinbiebervevo\", \"/youtube/user/tseries\", \"/youtube/user/familyfunpack\", \"/youtube/user/netdmuzikk\", \"/youtube/user/littlebabybum\", \"/youtube/user/mashamedvedtv\", \"/youtube/user/getmovies\", \"/youtube/user/toymonsterchannel\", \"/youtube/user/matercarclub\", \"/youtube/user/thediamondminecart\", \"/youtube/user/rihannavevo\", \"/youtube/user/pewdiepie\", \"/youtube/user/buzzfeedvideo\", \"/youtube/user/thechuchutv\", \"/youtube/user/theellenshow\", \"/youtube/user/itsbabybigmouth\", \"/youtube/user/reinomariaelenawalsh\", \"/youtube/user/disneycollectorbr\", \"/youtube/user/popularmmos\", \"/youtube/user/gmmgrammyofficial\", \"/youtube/user/watchmojo\", \"/youtube/user/abscbnonline\", \"/youtube/user/toysandfunnykids\", \"/youtube/user/roxetteofficial\", \"/youtube/user/zeetv\", \"/youtube/user/sevensupergirls\", \"/youtube/user/cookieswirlc\", \"/youtube/user/coldplayvevo\", \"/youtube/user/spinninrec\", \"/youtube/user/jacksepticeye\", \"/youtube/user/markipliergame\", \"/youtube/user/taylorswiftvevo\", \"/youtube/user/buzzfeedyellow\", \"/youtube/user/adelevevo\", \"/youtube/user/vanossgaming\", \"/youtube/user/onedirectionvevo\", \"/youtube/user/nickyjamtv\", \"/youtube/user/runway19co\", \"/youtube/user/blucollection\", \"/youtube/user/fueledbyramen\", \"/youtube/user/setindia\", \"/youtube/user/movieclipstrailers\", \"/youtube/user/arianagrandevevo\", \"/youtube/user/hobbykidstv\", \"/youtube/user/unboxingsurpriseegg\", \"/youtube/user/disneycartoys\", \"/youtube/user/fifthharmonyvevo\", \"/youtube/user/rsiammusic\"]"
      ]
     },
     "execution_count": 64,
     "metadata": {},
     "output_type": "execute_result"
    }
   ],
   "source": [
    "users.each do |u|\n",
    "  data = scrape_data(u).join(\"\\n\")\n",
    "  name = u.split('/').last\n",
    "  File.write(File.join(DATA, name), data)\n",
    "end"
   ]
  },
  {
   "cell_type": "code",
   "execution_count": null,
   "metadata": {
    "collapsed": true
   },
   "outputs": [],
   "source": []
  }
 ],
 "metadata": {
  "kernelspec": {
   "display_name": "Ruby 2.3.0",
   "language": "ruby",
   "name": "ruby"
  },
  "language_info": {
   "file_extension": ".rb",
   "mimetype": "application/x-ruby",
   "name": "ruby",
   "version": "2.3.0"
  }
 },
 "nbformat": 4,
 "nbformat_minor": 0
}
