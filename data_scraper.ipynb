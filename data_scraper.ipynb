{
 "cells": [
  {
   "cell_type": "code",
   "execution_count": 1,
   "metadata": {
    "collapsed": false,
    "scrolled": true
   },
   "outputs": [
    {
     "data": {
      "text/plain": [
       "true"
      ]
     },
     "execution_count": 1,
     "metadata": {},
     "output_type": "execute_result"
    }
   ],
   "source": [
    "require 'nokogiri'\n",
    "require 'open-uri'"
   ]
  },
  {
   "cell_type": "code",
   "execution_count": 2,
   "metadata": {
    "collapsed": false
   },
   "outputs": [
    {
     "data": {
      "text/plain": [
       "\"http://socialblade.com\""
      ]
     },
     "execution_count": 2,
     "metadata": {},
     "output_type": "execute_result"
    }
   ],
   "source": [
    "BASE_URL = \"http://socialblade.com\""
   ]
  },
  {
   "cell_type": "code",
   "execution_count": 3,
   "metadata": {
    "collapsed": false
   },
   "outputs": [
    {
     "data": {
      "text/plain": [
       "[\"/youtube/user/tseries\", \"/youtube/user/netdmuzikk\", \"/youtube/user/wwefannation\", \"/youtube/user/familyfunpack\", \"/youtube/user/justinbiebervevo\", \"/youtube/user/littlebabybum\", \"/youtube/user/mashamedvedtv\", \"/youtube/user/abscbnonline\", \"/youtube/user/buzzfeedvideo\", \"/youtube/user/thediamondminecart\", \"/youtube/user/getmovies\", \"/youtube/user/rihannavevo\", \"/youtube/user/disneycollectorbr\", \"/youtube/user/coldplayvevo\", \"/youtube/user/reinomariaelenawalsh\", \"/youtube/user/pewdiepie\", \"/youtube/user/buzzfeedyellow\", \"/youtube/user/itsbabybigmouth\", \"/youtube/user/theellenshow\", \"/youtube/user/gmmgrammyofficial\", \"/youtube/user/watchmojo\", \"/youtube/user/spinninrec\", \"/youtube/user/thechuchutv\", \"/youtube/user/fifthharmonyvevo\", \"/youtube/user/matercarclub\", \"/youtube/user/taylorswiftvevo\", \"/youtube/user/fernanfloo\", \"/youtube/user/vanossgaming\", \"/youtube/user/setindia\", \"/youtube/user/cookieswirlc\", \"/youtube/user/zeetv\", \"/youtube/user/sevensupergirls\", \"/youtube/user/jacksepticeye\", \"/youtube/user/fueledbyramen\", \"/youtube/user/siavevo\", \"/youtube/user/popularmmos\", \"/youtube/user/nightcorereality\", \"/youtube/user/nickyjamtv\", \"/youtube/user/markipliergame\", \"/youtube/user/rsiammusic\", \"/youtube/user/arianagrandevevo\", \"/youtube/user/britainsgottalent09\", \"/youtube/user/meghantrainorvevo\", \"/youtube/user/emimusic\", \"/youtube/user/videogyan\", \"/youtube/user/myfingerfamilyrhymes\", \"/youtube/user/malumavevo\", \"/youtube/user/movieclipstrailers\", \"/youtube/user/3uptheyingyang\", \"/youtube/user/alltrapnation\"]"
      ]
     },
     "execution_count": 3,
     "metadata": {},
     "output_type": "execute_result"
    }
   ],
   "source": [
    "doc = Nokogiri::HTML(open(BASE_URL + \"/youtube/\"))\n",
    "users = doc.css('.TableMonthlyStats a').map { |u| u['href']}"
   ]
  },
  {
   "cell_type": "code",
   "execution_count": 4,
   "metadata": {
    "collapsed": false
   },
   "outputs": [
    {
     "data": {
      "text/plain": [
       ":scrape_data"
      ]
     },
     "execution_count": 4,
     "metadata": {},
     "output_type": "execute_result"
    }
   ],
   "source": [
    "def scrape_data(u)\n",
    "  u_doc = Nokogiri::HTML(open(BASE_URL + u + '/monthly'))\n",
    "\n",
    "  table = (5...34).to_a.map { |n| u_doc.css(\"body > div:nth-child(16) > div > div:nth-child(1) > div:nth-child(#{n})\") }\n",
    "\n",
    "  table.map { |n| n.text.gsub(\"\\n\\n\", \" | \").gsub(\"\\n\", \" \") }\n",
    "end"
   ]
  },
  {
   "cell_type": "code",
   "execution_count": 5,
   "metadata": {
    "collapsed": false,
    "scrolled": true
   },
   "outputs": [
    {
     "data": {
      "text/plain": [
       "[\"data\"]"
      ]
     },
     "execution_count": 5,
     "metadata": {},
     "output_type": "execute_result"
    }
   ],
   "source": [
    "require 'fileutils'\n",
    "DATA = 'data'\n",
    "FileUtils.mkdir_p('data')"
   ]
  },
  {
   "cell_type": "code",
   "execution_count": 6,
   "metadata": {
    "collapsed": false
   },
   "outputs": [
    {
     "data": {
      "text/plain": [
       "[\"/youtube/user/tseries\", \"/youtube/user/netdmuzikk\", \"/youtube/user/wwefannation\", \"/youtube/user/familyfunpack\", \"/youtube/user/justinbiebervevo\", \"/youtube/user/littlebabybum\", \"/youtube/user/mashamedvedtv\", \"/youtube/user/abscbnonline\", \"/youtube/user/buzzfeedvideo\", \"/youtube/user/thediamondminecart\", \"/youtube/user/getmovies\", \"/youtube/user/rihannavevo\", \"/youtube/user/disneycollectorbr\", \"/youtube/user/coldplayvevo\", \"/youtube/user/reinomariaelenawalsh\", \"/youtube/user/pewdiepie\", \"/youtube/user/buzzfeedyellow\", \"/youtube/user/itsbabybigmouth\", \"/youtube/user/theellenshow\", \"/youtube/user/gmmgrammyofficial\", \"/youtube/user/watchmojo\", \"/youtube/user/spinninrec\", \"/youtube/user/thechuchutv\", \"/youtube/user/fifthharmonyvevo\", \"/youtube/user/matercarclub\", \"/youtube/user/taylorswiftvevo\", \"/youtube/user/fernanfloo\", \"/youtube/user/vanossgaming\", \"/youtube/user/setindia\", \"/youtube/user/cookieswirlc\", \"/youtube/user/zeetv\", \"/youtube/user/sevensupergirls\", \"/youtube/user/jacksepticeye\", \"/youtube/user/fueledbyramen\", \"/youtube/user/siavevo\", \"/youtube/user/popularmmos\", \"/youtube/user/nightcorereality\", \"/youtube/user/nickyjamtv\", \"/youtube/user/markipliergame\", \"/youtube/user/rsiammusic\", \"/youtube/user/arianagrandevevo\", \"/youtube/user/britainsgottalent09\", \"/youtube/user/meghantrainorvevo\", \"/youtube/user/emimusic\", \"/youtube/user/videogyan\", \"/youtube/user/myfingerfamilyrhymes\", \"/youtube/user/malumavevo\", \"/youtube/user/movieclipstrailers\", \"/youtube/user/3uptheyingyang\", \"/youtube/user/alltrapnation\"]"
      ]
     },
     "execution_count": 6,
     "metadata": {},
     "output_type": "execute_result"
    }
   ],
   "source": [
    "users.each do |u|\n",
    "  data = scrape_data(u).join(\"\\n\")\n",
    "  name = u.split('/').last\n",
    "  File.write(File.join(DATA, name), data)\n",
    "end"
   ]
  }
 ],
 "metadata": {
  "kernelspec": {
   "display_name": "Ruby 2.3.0",
   "language": "ruby",
   "name": "ruby"
  },
  "language_info": {
   "file_extension": ".rb",
   "mimetype": "application/x-ruby",
   "name": "ruby",
   "version": "2.3.0"
  }
 },
 "nbformat": 4,
 "nbformat_minor": 0
}
